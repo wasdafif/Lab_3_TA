{
 "cells": [
  {
   "cell_type": "code",
   "execution_count": 8,
   "id": "ca761570",
   "metadata": {},
   "outputs": [
    {
     "data": {
      "text/plain": [
       "<Response [200]>"
      ]
     },
     "execution_count": 8,
     "metadata": {},
     "output_type": "execute_result"
    }
   ],
   "source": [
    "import requests\n",
    "\n",
    "page = requests.get(\"https://dataquestio.github.io/web-scraping-pages/simple.html\") \n",
    "page\n"
   ]
  },
  {
   "cell_type": "code",
   "execution_count": 9,
   "id": "044fecf2",
   "metadata": {},
   "outputs": [
    {
     "data": {
      "text/plain": [
       "<!DOCTYPE html>\n",
       "\n",
       "<html>\n",
       "<head>\n",
       "<title>A simple example page</title>\n",
       "</head>\n",
       "<body>\n",
       "<p>Here is some simple content for this page.</p>\n",
       "</body>\n",
       "</html>"
      ]
     },
     "execution_count": 9,
     "metadata": {},
     "output_type": "execute_result"
    }
   ],
   "source": [
    "from bs4 import BeautifulSoup\n",
    "soup=BeautifulSoup(page.content,'html.parser')\n",
    "\n",
    "soup"
   ]
  },
  {
   "cell_type": "code",
   "execution_count": 10,
   "id": "702538ce",
   "metadata": {},
   "outputs": [
    {
     "data": {
      "text/plain": [
       "['html',\n",
       " '\\n',\n",
       " <html>\n",
       " <head>\n",
       " <title>A simple example page</title>\n",
       " </head>\n",
       " <body>\n",
       " <p>Here is some simple content for this page.</p>\n",
       " </body>\n",
       " </html>]"
      ]
     },
     "execution_count": 10,
     "metadata": {},
     "output_type": "execute_result"
    }
   ],
   "source": [
    "list(soup.children)"
   ]
  },
  {
   "cell_type": "code",
   "execution_count": 14,
   "id": "00040171",
   "metadata": {},
   "outputs": [],
   "source": [
    "html=list(soup.children)[2]"
   ]
  },
  {
   "cell_type": "code",
   "execution_count": 15,
   "id": "d3dff382",
   "metadata": {},
   "outputs": [],
   "source": [
    "content=soup.find('p').get_text()"
   ]
  },
  {
   "cell_type": "code",
   "execution_count": 16,
   "id": "09254ce0",
   "metadata": {},
   "outputs": [
    {
     "name": "stdout",
     "output_type": "stream",
     "text": [
      "Extracted Content: Here is some simple content for this page.\n"
     ]
    }
   ],
   "source": [
    "print(\"Extracted Content:\", content)"
   ]
  },
  {
   "cell_type": "code",
   "execution_count": 17,
   "id": "46f58f61",
   "metadata": {},
   "outputs": [
    {
     "name": "stdout",
     "output_type": "stream",
     "text": [
      "Extracted Content: A simple example page\n"
     ]
    }
   ],
   "source": [
    "content=soup.find('title').get_text()\n",
    "print(\"Extracted Content:\", content)"
   ]
  },
  {
   "cell_type": "code",
   "execution_count": 18,
   "id": "ca69b2a7",
   "metadata": {},
   "outputs": [
    {
     "name": "stdout",
     "output_type": "stream",
     "text": [
      "Extracted Content: \n",
      "\n",
      "A simple example page\n",
      "\n",
      "\n",
      "Here is some simple content for this page.\n",
      "\n",
      "\n"
     ]
    }
   ],
   "source": [
    "content=soup.find('html').get_text()\n",
    "print(\"Extracted Content:\", content)"
   ]
  },
  {
   "cell_type": "code",
   "execution_count": 19,
   "id": "9681dd20",
   "metadata": {},
   "outputs": [
    {
     "name": "stdout",
     "output_type": "stream",
     "text": [
      "Extracted Content: \n",
      "A simple example page\n",
      "\n"
     ]
    }
   ],
   "source": [
    "content=soup.find('head').get_text()\n",
    "print(\"Extracted Content:\", content)"
   ]
  },
  {
   "cell_type": "code",
   "execution_count": 20,
   "id": "1eabf9a1",
   "metadata": {},
   "outputs": [
    {
     "name": "stdout",
     "output_type": "stream",
     "text": [
      "Extracted Content: Here is some simple content for this page.\n"
     ]
    }
   ],
   "source": [
    "content=soup.find('p').get_text()\n",
    "print(\"Extracted Content:\", content)"
   ]
  },
  {
   "cell_type": "code",
   "execution_count": 21,
   "id": "f3f52021",
   "metadata": {},
   "outputs": [],
   "source": [
    "with open(\"extracted_data.txt\", \"w\") as file: \n",
    "    file.write(content)"
   ]
  },
  {
   "cell_type": "code",
   "execution_count": 22,
   "id": "a29988af",
   "metadata": {},
   "outputs": [],
   "source": [
    "#ANOTHER QUESTION"
   ]
  },
  {
   "cell_type": "code",
   "execution_count": 24,
   "id": "13948e47",
   "metadata": {},
   "outputs": [
    {
     "data": {
      "text/plain": [
       "<Response [200]>"
      ]
     },
     "execution_count": 24,
     "metadata": {},
     "output_type": "execute_result"
    }
   ],
   "source": [
    "page = requests.get(\"https://sites.google.com/view/cisb5123/home\") \n",
    "page"
   ]
  },
  {
   "cell_type": "code",
   "execution_count": 55,
   "id": "b53feb15",
   "metadata": {},
   "outputs": [],
   "source": [
    "from bs4 import BeautifulSoup\n",
    "data=BeautifulSoup(page.content,'html.parser')"
   ]
  },
  {
   "cell_type": "code",
   "execution_count": 56,
   "id": "5255f671",
   "metadata": {},
   "outputs": [
    {
     "name": "stdout",
     "output_type": "stream",
     "text": [
      "Extracted Content: CISB5123\n"
     ]
    }
   ],
   "source": [
    "content=data.find('h1').get_text()\n",
    "print(\"Extracted Content:\", content)"
   ]
  },
  {
   "cell_type": "code",
   "execution_count": 57,
   "id": "eb9cf9ce",
   "metadata": {},
   "outputs": [
    {
     "name": "stdout",
     "output_type": "stream",
     "text": [
      "Extracted Content: Text Analytics\n"
     ]
    }
   ],
   "source": [
    "content=data.find('h2').get_text()\n",
    "print(\"Extracted Content:\", content)"
   ]
  },
  {
   "cell_type": "code",
   "execution_count": 58,
   "id": "b3090aeb",
   "metadata": {},
   "outputs": [
    {
     "name": "stdout",
     "output_type": "stream",
     "text": [
      "Extracted Content: Text Analytics\n"
     ]
    }
   ],
   "source": [
    "content=data.find('div').h2.get_text()\n",
    "print(\"Extracted Content:\", content)"
   ]
  },
  {
   "cell_type": "code",
   "execution_count": 59,
   "id": "b3bf6cd9",
   "metadata": {},
   "outputs": [
    {
     "name": "stdout",
     "output_type": "stream",
     "text": [
      "Extracted Content: CISB5123\n"
     ]
    }
   ],
   "source": [
    "content=data.find('h1').strong.get_text()\n",
    "print(\"Extracted Content:\", content)"
   ]
  },
  {
   "cell_type": "code",
   "execution_count": 60,
   "id": "103c99ea",
   "metadata": {},
   "outputs": [
    {
     "name": "stdout",
     "output_type": "stream",
     "text": [
      "Extracted Content: We are going to learn how to perform web scraping.\n"
     ]
    }
   ],
   "source": [
    "intro=data.find('p').span.get_text()\n",
    "print(\"Extracted Content:\", intro)"
   ]
  },
  {
   "cell_type": "code",
   "execution_count": 61,
   "id": "82c26858",
   "metadata": {},
   "outputs": [
    {
     "name": "stdout",
     "output_type": "stream",
     "text": [
      "Extracted Content: Inspect\n"
     ]
    }
   ],
   "source": [
    "intro=data.find('li').p.span.strong.get_text()\n",
    "print(\"Extracted Content:\", intro)"
   ]
  },
  {
   "cell_type": "code",
   "execution_count": 62,
   "id": "2dae3f2d",
   "metadata": {},
   "outputs": [
    {
     "name": "stdout",
     "output_type": "stream",
     "text": [
      "Extracted Content: <span class=\"jgG6ef\" style=\"font-family: 'Lato'; vertical-align: baseline;\"><strong>Inspect</strong></span>\n"
     ]
    }
   ],
   "source": [
    "step_elements=data.find('span', class_='jgG6ef')\n",
    "print(\"Extracted Content:\", step_elements)"
   ]
  },
  {
   "cell_type": "code",
   "execution_count": 64,
   "id": "f0e1b0da",
   "metadata": {},
   "outputs": [
    {
     "name": "stdout",
     "output_type": "stream",
     "text": [
      "Data has been saved to extracted_data.txt\n"
     ]
    }
   ],
   "source": [
    "\n",
    "# Extracting title and subtitle\n",
    "title = data.find('h1').strong.get_text()\n",
    "subtitle = data.find('h2').span.get_text()\n",
    "\n",
    "# Extracting introduction paragraph\n",
    "intro_text = data.find(string=\"Introduction\")\n",
    "intro = data.find('p').span.get_text()\n",
    "\n",
    "#to find all the ordered list by specifying its class name \n",
    "step_elements = data.find_all('li', class_='TYR86d zfr3Q')\n",
    "\n",
    "#to write the extracted data into a text file\n",
    "with open(\"extracted_data2.txt\", \"w\", encoding=\"utf-8\") as file:\n",
    "    file.write(\"Title: {}\\n\".format(title))\n",
    "    file.write(\"Subtitle: {}\\n\".format(subtitle))\n",
    "    file.write(\"Introduction: {}\\n\".format(intro))\n",
    "    file.write(\"Steps:\\n\")\n",
    "    for step_element in step_elements:\n",
    "        step = step_element.find('p', class_='CDt4Ke zfr3Q')\n",
    "        file.write(\"- {}\\n\".format(step.text))\n",
    "\n",
    "print(\"Data has been saved to extracted_data.txt\")"
   ]
  },
  {
   "cell_type": "code",
   "execution_count": 33,
   "id": "c5e22cbd",
   "metadata": {},
   "outputs": [],
   "source": [
    "#Another Question"
   ]
  },
  {
   "cell_type": "code",
   "execution_count": 66,
   "id": "4fcee186",
   "metadata": {},
   "outputs": [],
   "source": [
    "#scrap 1 page"
   ]
  },
  {
   "cell_type": "code",
   "execution_count": 67,
   "id": "466a5f7b",
   "metadata": {},
   "outputs": [
    {
     "name": "stdout",
     "output_type": "stream",
     "text": [
      "Quote:  “The world as we have created it is a process of our thinking. It cannot be changed without changing our thinking.”\n",
      "Author:  Albert Einstein\n",
      "Tags:  change, deep-thoughts, thinking, world\n",
      "\n",
      "Quote:  “It is our choices, Harry, that show what we truly are, far more than our abilities.”\n",
      "Author:  J.K. Rowling\n",
      "Tags:  abilities, choices\n",
      "\n",
      "Quote:  “There are only two ways to live your life. One is as though nothing is a miracle. The other is as though everything is a miracle.”\n",
      "Author:  Albert Einstein\n",
      "Tags:  inspirational, life, live, miracle, miracles\n",
      "\n",
      "Quote:  “The person, be it gentleman or lady, who has not pleasure in a good novel, must be intolerably stupid.”\n",
      "Author:  Jane Austen\n",
      "Tags:  aliteracy, books, classic, humor\n",
      "\n",
      "Quote:  “Imperfection is beauty, madness is genius and it's better to be absolutely ridiculous than absolutely boring.”\n",
      "Author:  Marilyn Monroe\n",
      "Tags:  be-yourself, inspirational\n",
      "\n",
      "Quote:  “Try not to become a man of success. Rather become a man of value.”\n",
      "Author:  Albert Einstein\n",
      "Tags:  adulthood, success, value\n",
      "\n",
      "Quote:  “It is better to be hated for what you are than to be loved for what you are not.”\n",
      "Author:  André Gide\n",
      "Tags:  life, love\n",
      "\n",
      "Quote:  “I have not failed. I've just found 10,000 ways that won't work.”\n",
      "Author:  Thomas A. Edison\n",
      "Tags:  edison, failure, inspirational, paraphrased\n",
      "\n",
      "Quote:  “A woman is like a tea bag; you never know how strong it is until it's in hot water.”\n",
      "Author:  Eleanor Roosevelt\n",
      "Tags:  misattributed-eleanor-roosevelt\n",
      "\n",
      "Quote:  “A day without sunshine is like, you know, night.”\n",
      "Author:  Steve Martin\n",
      "Tags:  humor, obvious, simile\n",
      "\n",
      "Quotes have been saved to quotes.csv\n"
     ]
    }
   ],
   "source": [
    "import requests\n",
    "from bs4 import BeautifulSoup\n",
    "import csv\n",
    "\n",
    "# Send a GET request to the website\n",
    "page = requests.get('https://quotes.toscrape.com')\n",
    "\n",
    "# Parse the HTML content\n",
    "soup = BeautifulSoup(page.text, 'html.parser')\n",
    "\n",
    "# Create a list to store quotes\n",
    "quotes = []\n",
    "\n",
    "# Find all quote elements\n",
    "quote_elements = soup.find_all('div', class_='quote')\n",
    "\n",
    "# Extract information from each quote element\n",
    "for quote_element in quote_elements:\n",
    "    # extract the text of the quote\n",
    "    text = quote_element.find('span', class_='text').text\n",
    "    # extract the author of the quote\n",
    "    author = quote_element.find('small', class_='author').text\n",
    "\n",
    "    # extract the tag <a> HTML elements related to the quote\n",
    "    tag_elements = quote_element.select('.tags .tag')\n",
    "\n",
    "    # store the list of tag strings in a list\n",
    "    tags = []\n",
    "    for tag_element in tag_elements:\n",
    "        tags.append(tag_element.text)\n",
    "        \n",
    "    quotes.append(\n",
    "    {\n",
    "        'text': text,\n",
    "        'author': author,\n",
    "        'tags': ', '.join(tags) # merge the tags into a \"A, B, ..., Z\" string\n",
    "    }\n",
    ")\n",
    "    \n",
    "# Print the scraped quotes - optional\n",
    "for quote in quotes:\n",
    "    print(\"Quote: \", quote['text'])\n",
    "    print(\"Author: \", quote['author'])\n",
    "    print(\"Tags: \", quote['tags'])\n",
    "    print()\n",
    "    \n",
    "# Save quotes to a CSV file\n",
    "with open('quotes.csv', 'w', encoding='utf-8', newline='') as csvfile:\n",
    "    fieldnames = ['text', 'author', 'tags']\n",
    "    writer = csv.DictWriter(csvfile, fieldnames=fieldnames)\n",
    "    \n",
    "    # Write headers\n",
    "    writer.writeheader()\n",
    "    \n",
    "    # Write quotes\n",
    "    for quote in quotes:\n",
    "        writer.writerow(quote)\n",
    "\n",
    "print(\"Quotes have been saved to quotes.csv\")"
   ]
  },
  {
   "cell_type": "code",
   "execution_count": 68,
   "id": "4b947fbb",
   "metadata": {},
   "outputs": [],
   "source": [
    "#scrap many pages"
   ]
  },
  {
   "cell_type": "code",
   "execution_count": 70,
   "id": "7a025e08",
   "metadata": {},
   "outputs": [],
   "source": [
    "import requests\n",
    "from bs4 import BeautifulSoup\n",
    "import csv\n",
    "\n",
    "# Function to scrape quotes from a page\n",
    "def scrape_page(soup, quotes):\n",
    "    for quote in soup.find_all('div', class_='quote'):\n",
    "        text = quote.find('span', class_='text').text\n",
    "        author = quote.find('small', class_='author').text\n",
    "        tags = ', '.join(tag.text for tag in quote.find_all('a', class_='tag'))\n",
    "        quotes.append({'Text': text, 'Author': author, 'Tags': tags})\n",
    "\n",
    "# Base URL and headers\n",
    "base_url = 'https://quotes.toscrape.com'\n",
    "headers = {'User-Agent': 'Mozilla/5.0'}\n",
    "\n",
    "# List to store quotes\n",
    "quotes = []\n",
    "\n",
    "# Function to scrape quotes from multiple pages\n",
    "def scrape_all_pages(url):\n",
    "    while url:\n",
    "        response = requests.get(url, headers=headers)\n",
    "        soup = BeautifulSoup(response.text, 'html.parser')\n",
    "        scrape_page(soup, quotes)\n",
    "        next_page = soup.find('li', class_='next')\n",
    "        url = base_url + next_page.find('a')['href'] if next_page else None\n",
    "\n",
    "# Scrape quotes from all pages\n",
    "scrape_all_pages(base_url)\n",
    "\n",
    "# Save quotes to CSV file\n",
    "with open('quotes2.csv', 'w', newline='', encoding='utf-8') as csvfile:\n",
    "    writer = csv.DictWriter(csvfile, fieldnames=['Text', 'Author', 'Tags'])\n",
    "    writer.writeheader()\n",
    "    writer.writerows(quotes)"
   ]
  },
  {
   "cell_type": "code",
   "execution_count": null,
   "id": "63451076",
   "metadata": {},
   "outputs": [],
   "source": []
  }
 ],
 "metadata": {
  "kernelspec": {
   "display_name": "Python 3 (ipykernel)",
   "language": "python",
   "name": "python3"
  },
  "language_info": {
   "codemirror_mode": {
    "name": "ipython",
    "version": 3
   },
   "file_extension": ".py",
   "mimetype": "text/x-python",
   "name": "python",
   "nbconvert_exporter": "python",
   "pygments_lexer": "ipython3",
   "version": "3.11.5"
  }
 },
 "nbformat": 4,
 "nbformat_minor": 5
}
